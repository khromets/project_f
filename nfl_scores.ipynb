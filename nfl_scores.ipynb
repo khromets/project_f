{
  "nbformat": 4,
  "nbformat_minor": 0,
  "metadata": {
    "colab": {
      "provenance": [],
      "mount_file_id": "15TFk9ID5PqeOZxG5XVxKQ92BepNW9R_a",
      "authorship_tag": "ABX9TyPsqExcIzzLGl5g+J74JgU+",
      "include_colab_link": true
    },
    "kernelspec": {
      "name": "python3",
      "display_name": "Python 3"
    },
    "language_info": {
      "name": "python"
    }
  },
  "cells": [
    {
      "cell_type": "markdown",
      "metadata": {
        "id": "view-in-github",
        "colab_type": "text"
      },
      "source": [
        "<a href=\"https://colab.research.google.com/github/khromets/project_f/blob/main/nfl_scores.ipynb\" target=\"_parent\"><img src=\"https://colab.research.google.com/assets/colab-badge.svg\" alt=\"Open In Colab\"/></a>"
      ]
    },
    {
      "cell_type": "code",
      "execution_count": null,
      "metadata": {
        "id": "DBd1c_EOlojl"
      },
      "outputs": [],
      "source": [
        "import json\n",
        "import pandas as pd\n",
        "import requests\n",
        "import datetime\n",
        "import pytz\n",
        "from google.colab import drive"
      ]
    },
    {
      "cell_type": "code",
      "source": [
        "url='http://site.api.espn.com/apis/site/v2/sports/football/nfl/scoreboard'\n",
        "response = requests.get(url)\n",
        "data = json.loads(response.text)"
      ],
      "metadata": {
        "id": "KbMHa5h7lvBh"
      },
      "execution_count": null,
      "outputs": []
    },
    {
      "cell_type": "code",
      "source": [
        "year=[]\n",
        "week=[]\n",
        "game_short_name=[]\n",
        "score=[]\n",
        "game_date=[]\n",
        "home_full_name=[]\n",
        "home_team_record=[]\n",
        "away_full_name=[]\n",
        "away_team_record=[]\n",
        "game_status=[]\n",
        "uid=[]\n",
        "insert_date=[]\n",
        "\n",
        "\n",
        "for x in data['events']:\n",
        "  # x['name'] - match name\n",
        "  item_1 = x['competitions'][0]\n",
        "  item_2=item_1['competitors'][0] # there are two teams (competitors). 0 - home team, 1 - away team\n",
        "  item_3=item_1['competitors'][1] # there are two teams (competitors). 0 - home team, 1 - away team\n",
        "  \n",
        "  year.append(data['season']['year'])\n",
        "  week.append(data['week']['number'])\n",
        "  game_short_name.append(x['shortName'])\n",
        "  score.append(item_2['score']+'-'+item_3['score'])\n",
        "  game_date.append(x['date'])\n",
        "  home_full_name.append(item_2['team']['displayName'])\n",
        "  home_team_record.append(item_2['records'][0]['summary'])\n",
        "  away_full_name.append(item_3['team']['displayName'])\n",
        "  away_team_record.append(item_3['records'][0]['summary'])\n",
        "  game_status.append(item_1['status']['type']['name'])\n",
        "  uid.append(x['uid'])\n",
        "  insert_date.append(datetime.datetime.now(pytz.timezone(\"America/New_York\")))"
      ],
      "metadata": {
        "id": "AYnaXKMul1uh"
      },
      "execution_count": null,
      "outputs": []
    },
    {
      "cell_type": "code",
      "source": [
        "data = {'year': year,\n",
        "        'week': week,\n",
        "        'game_short_name': game_short_name,\n",
        "        'score': score,\n",
        "        'game_date': game_date,\n",
        "        'home_full_name': home_full_name,\n",
        "        'home_team_record': home_team_record,\n",
        "        'away_full_name': away_full_name,\n",
        "        'away_team_record': away_team_record,\n",
        "        'game_status': game_status,\n",
        "        'uid': uid,\n",
        "        'insert_date': insert_date\n",
        "        }\n",
        "df = pd.DataFrame(data)\n",
        "print(df)"
      ],
      "metadata": {
        "id": "5Fi1cLyIl64-",
        "colab": {
          "base_uri": "https://localhost:8080/"
        },
        "outputId": "d5ba5281-eb23-4e34-d904-1c4c9869d9b0"
      },
      "execution_count": null,
      "outputs": [
        {
          "output_type": "stream",
          "name": "stdout",
          "text": [
            "   year  week game_short_name score          game_date       home_full_name  \\\n",
            "0  2022     3        SF @ PHI   0-0  2023-01-29T20:00Z  Philadelphia Eagles   \n",
            "1  2022     3        CIN @ KC   0-0  2023-01-29T23:30Z   Kansas City Chiefs   \n",
            "\n",
            "  home_team_record       away_full_name away_team_record       game_status  \\\n",
            "0             14-3  San Francisco 49ers             13-4  STATUS_SCHEDULED   \n",
            "1             14-3   Cincinnati Bengals             12-4  STATUS_SCHEDULED   \n",
            "\n",
            "                     uid                      insert_date  \n",
            "0  s:20~l:28~e:401438009 2023-01-28 15:17:23.195092-05:00  \n",
            "1  s:20~l:28~e:401438008 2023-01-28 15:17:23.195158-05:00  \n"
          ]
        }
      ]
    },
    {
      "cell_type": "code",
      "source": [
        "#drive.mount('drive')"
      ],
      "metadata": {
        "id": "fOPimyiDwUHT"
      },
      "execution_count": null,
      "outputs": []
    },
    {
      "cell_type": "code",
      "source": [
        "#drive.mount('/content/drive', force_remount=True)"
      ],
      "metadata": {
        "id": "DdKuI_OvIMeJ"
      },
      "execution_count": null,
      "outputs": []
    },
    {
      "cell_type": "code",
      "source": [
        "df.to_csv('/content/drive/My Drive/NFL_scores/nfl_score_'+datetime.datetime.now(pytz.timezone(\"America/New_York\")).strftime(\"%Y%m%d_%H%M%S\")+'.csv',index=False)"
      ],
      "metadata": {
        "id": "kxybpbp1xwCV"
      },
      "execution_count": null,
      "outputs": []
    },
    {
      "cell_type": "code",
      "source": [
        "from google.cloud import bigquery\n",
        "from google.oauth2 import service_account"
      ],
      "metadata": {
        "id": "KtpsTtBs2jM5"
      },
      "execution_count": null,
      "outputs": []
    },
    {
      "cell_type": "code",
      "source": [
        "credentials = service_account.Credentials.from_service_account_file('/content/drive/My Drive/NFL_scores/project-f-374403-cf1535d2706e.json')\n",
        "project_id = 'project-f-374403'\n",
        "client = bigquery.Client(credentials= credentials,project=project_id)"
      ],
      "metadata": {
        "id": "QoYAdxWX1OrC"
      },
      "execution_count": null,
      "outputs": []
    },
    {
      "cell_type": "code",
      "source": [
        "sql =\"\"\"\n",
        "   SELECT *\n",
        "   FROM `project-f-374403.evgenii.nfl_scores`\n",
        "   LIMIT 1000 \"\"\""
      ],
      "metadata": {
        "id": "i3An_h1R1RVc"
      },
      "execution_count": null,
      "outputs": []
    },
    {
      "cell_type": "code",
      "source": [
        "pct_overlap_terms_by_days_apart = client.query(sql).to_dataframe()\n",
        "\n",
        "pct_overlap_terms_by_days_apart.head()"
      ],
      "metadata": {
        "colab": {
          "base_uri": "https://localhost:8080/",
          "height": 206
        },
        "id": "bXHYXs3K8Tmx",
        "outputId": "a86363bd-b690-4663-e4ca-f5a6e65c771a"
      },
      "execution_count": null,
      "outputs": [
        {
          "output_type": "execute_result",
          "data": {
            "text/plain": [
              "   year  week game_short_name  score          game_date        home_full_name  \\\n",
              "0  2022     1        DAL @ TB    0-0  2023-01-17T01:15Z  Tampa Bay Buccaneers   \n",
              "1  2022     1        DAL @ TB  14-31  2023-01-17T01:15Z  Tampa Bay Buccaneers   \n",
              "2  2022     1       LAC @ JAX    0-0  2023-01-15T01:15Z  Jacksonville Jaguars   \n",
              "3  2022     1       LAC @ JAX  31-30  2023-01-15T01:15Z  Jacksonville Jaguars   \n",
              "4  2022     1       BAL @ CIN    0-0  2023-01-16T01:15Z    Cincinnati Bengals   \n",
              "\n",
              "  home_team_record        away_full_name away_team_record       game_status  \\\n",
              "0              8-9        Dallas Cowboys             12-5  STATUS_SCHEDULED   \n",
              "1              8-9        Dallas Cowboys             12-5      STATUS_FINAL   \n",
              "2              9-8  Los Angeles Chargers             10-7  STATUS_SCHEDULED   \n",
              "3              9-8  Los Angeles Chargers             10-7      STATUS_FINAL   \n",
              "4             12-4      Baltimore Ravens             10-7  STATUS_SCHEDULED   \n",
              "\n",
              "                     uid                      insert_date  \n",
              "0  s:20~l:28~e:401438003 2023-01-13 03:20:51.576514+00:00  \n",
              "1  s:20~l:28~e:401438003 2023-01-18 02:28:31.089985+00:00  \n",
              "2  s:20~l:28~e:401437998 2023-01-13 03:20:51.576402+00:00  \n",
              "3  s:20~l:28~e:401437998 2023-01-18 02:28:31.089878+00:00  \n",
              "4  s:20~l:28~e:401437999 2023-01-13 03:20:51.576488+00:00  "
            ],
            "text/html": [
              "\n",
              "  <div id=\"df-e684b0a8-9f37-43f8-97ce-cf12ab3db935\">\n",
              "    <div class=\"colab-df-container\">\n",
              "      <div>\n",
              "<style scoped>\n",
              "    .dataframe tbody tr th:only-of-type {\n",
              "        vertical-align: middle;\n",
              "    }\n",
              "\n",
              "    .dataframe tbody tr th {\n",
              "        vertical-align: top;\n",
              "    }\n",
              "\n",
              "    .dataframe thead th {\n",
              "        text-align: right;\n",
              "    }\n",
              "</style>\n",
              "<table border=\"1\" class=\"dataframe\">\n",
              "  <thead>\n",
              "    <tr style=\"text-align: right;\">\n",
              "      <th></th>\n",
              "      <th>year</th>\n",
              "      <th>week</th>\n",
              "      <th>game_short_name</th>\n",
              "      <th>score</th>\n",
              "      <th>game_date</th>\n",
              "      <th>home_full_name</th>\n",
              "      <th>home_team_record</th>\n",
              "      <th>away_full_name</th>\n",
              "      <th>away_team_record</th>\n",
              "      <th>game_status</th>\n",
              "      <th>uid</th>\n",
              "      <th>insert_date</th>\n",
              "    </tr>\n",
              "  </thead>\n",
              "  <tbody>\n",
              "    <tr>\n",
              "      <th>0</th>\n",
              "      <td>2022</td>\n",
              "      <td>1</td>\n",
              "      <td>DAL @ TB</td>\n",
              "      <td>0-0</td>\n",
              "      <td>2023-01-17T01:15Z</td>\n",
              "      <td>Tampa Bay Buccaneers</td>\n",
              "      <td>8-9</td>\n",
              "      <td>Dallas Cowboys</td>\n",
              "      <td>12-5</td>\n",
              "      <td>STATUS_SCHEDULED</td>\n",
              "      <td>s:20~l:28~e:401438003</td>\n",
              "      <td>2023-01-13 03:20:51.576514+00:00</td>\n",
              "    </tr>\n",
              "    <tr>\n",
              "      <th>1</th>\n",
              "      <td>2022</td>\n",
              "      <td>1</td>\n",
              "      <td>DAL @ TB</td>\n",
              "      <td>14-31</td>\n",
              "      <td>2023-01-17T01:15Z</td>\n",
              "      <td>Tampa Bay Buccaneers</td>\n",
              "      <td>8-9</td>\n",
              "      <td>Dallas Cowboys</td>\n",
              "      <td>12-5</td>\n",
              "      <td>STATUS_FINAL</td>\n",
              "      <td>s:20~l:28~e:401438003</td>\n",
              "      <td>2023-01-18 02:28:31.089985+00:00</td>\n",
              "    </tr>\n",
              "    <tr>\n",
              "      <th>2</th>\n",
              "      <td>2022</td>\n",
              "      <td>1</td>\n",
              "      <td>LAC @ JAX</td>\n",
              "      <td>0-0</td>\n",
              "      <td>2023-01-15T01:15Z</td>\n",
              "      <td>Jacksonville Jaguars</td>\n",
              "      <td>9-8</td>\n",
              "      <td>Los Angeles Chargers</td>\n",
              "      <td>10-7</td>\n",
              "      <td>STATUS_SCHEDULED</td>\n",
              "      <td>s:20~l:28~e:401437998</td>\n",
              "      <td>2023-01-13 03:20:51.576402+00:00</td>\n",
              "    </tr>\n",
              "    <tr>\n",
              "      <th>3</th>\n",
              "      <td>2022</td>\n",
              "      <td>1</td>\n",
              "      <td>LAC @ JAX</td>\n",
              "      <td>31-30</td>\n",
              "      <td>2023-01-15T01:15Z</td>\n",
              "      <td>Jacksonville Jaguars</td>\n",
              "      <td>9-8</td>\n",
              "      <td>Los Angeles Chargers</td>\n",
              "      <td>10-7</td>\n",
              "      <td>STATUS_FINAL</td>\n",
              "      <td>s:20~l:28~e:401437998</td>\n",
              "      <td>2023-01-18 02:28:31.089878+00:00</td>\n",
              "    </tr>\n",
              "    <tr>\n",
              "      <th>4</th>\n",
              "      <td>2022</td>\n",
              "      <td>1</td>\n",
              "      <td>BAL @ CIN</td>\n",
              "      <td>0-0</td>\n",
              "      <td>2023-01-16T01:15Z</td>\n",
              "      <td>Cincinnati Bengals</td>\n",
              "      <td>12-4</td>\n",
              "      <td>Baltimore Ravens</td>\n",
              "      <td>10-7</td>\n",
              "      <td>STATUS_SCHEDULED</td>\n",
              "      <td>s:20~l:28~e:401437999</td>\n",
              "      <td>2023-01-13 03:20:51.576488+00:00</td>\n",
              "    </tr>\n",
              "  </tbody>\n",
              "</table>\n",
              "</div>\n",
              "      <button class=\"colab-df-convert\" onclick=\"convertToInteractive('df-e684b0a8-9f37-43f8-97ce-cf12ab3db935')\"\n",
              "              title=\"Convert this dataframe to an interactive table.\"\n",
              "              style=\"display:none;\">\n",
              "        \n",
              "  <svg xmlns=\"http://www.w3.org/2000/svg\" height=\"24px\"viewBox=\"0 0 24 24\"\n",
              "       width=\"24px\">\n",
              "    <path d=\"M0 0h24v24H0V0z\" fill=\"none\"/>\n",
              "    <path d=\"M18.56 5.44l.94 2.06.94-2.06 2.06-.94-2.06-.94-.94-2.06-.94 2.06-2.06.94zm-11 1L8.5 8.5l.94-2.06 2.06-.94-2.06-.94L8.5 2.5l-.94 2.06-2.06.94zm10 10l.94 2.06.94-2.06 2.06-.94-2.06-.94-.94-2.06-.94 2.06-2.06.94z\"/><path d=\"M17.41 7.96l-1.37-1.37c-.4-.4-.92-.59-1.43-.59-.52 0-1.04.2-1.43.59L10.3 9.45l-7.72 7.72c-.78.78-.78 2.05 0 2.83L4 21.41c.39.39.9.59 1.41.59.51 0 1.02-.2 1.41-.59l7.78-7.78 2.81-2.81c.8-.78.8-2.07 0-2.86zM5.41 20L4 18.59l7.72-7.72 1.47 1.35L5.41 20z\"/>\n",
              "  </svg>\n",
              "      </button>\n",
              "      \n",
              "  <style>\n",
              "    .colab-df-container {\n",
              "      display:flex;\n",
              "      flex-wrap:wrap;\n",
              "      gap: 12px;\n",
              "    }\n",
              "\n",
              "    .colab-df-convert {\n",
              "      background-color: #E8F0FE;\n",
              "      border: none;\n",
              "      border-radius: 50%;\n",
              "      cursor: pointer;\n",
              "      display: none;\n",
              "      fill: #1967D2;\n",
              "      height: 32px;\n",
              "      padding: 0 0 0 0;\n",
              "      width: 32px;\n",
              "    }\n",
              "\n",
              "    .colab-df-convert:hover {\n",
              "      background-color: #E2EBFA;\n",
              "      box-shadow: 0px 1px 2px rgba(60, 64, 67, 0.3), 0px 1px 3px 1px rgba(60, 64, 67, 0.15);\n",
              "      fill: #174EA6;\n",
              "    }\n",
              "\n",
              "    [theme=dark] .colab-df-convert {\n",
              "      background-color: #3B4455;\n",
              "      fill: #D2E3FC;\n",
              "    }\n",
              "\n",
              "    [theme=dark] .colab-df-convert:hover {\n",
              "      background-color: #434B5C;\n",
              "      box-shadow: 0px 1px 3px 1px rgba(0, 0, 0, 0.15);\n",
              "      filter: drop-shadow(0px 1px 2px rgba(0, 0, 0, 0.3));\n",
              "      fill: #FFFFFF;\n",
              "    }\n",
              "  </style>\n",
              "\n",
              "      <script>\n",
              "        const buttonEl =\n",
              "          document.querySelector('#df-e684b0a8-9f37-43f8-97ce-cf12ab3db935 button.colab-df-convert');\n",
              "        buttonEl.style.display =\n",
              "          google.colab.kernel.accessAllowed ? 'block' : 'none';\n",
              "\n",
              "        async function convertToInteractive(key) {\n",
              "          const element = document.querySelector('#df-e684b0a8-9f37-43f8-97ce-cf12ab3db935');\n",
              "          const dataTable =\n",
              "            await google.colab.kernel.invokeFunction('convertToInteractive',\n",
              "                                                     [key], {});\n",
              "          if (!dataTable) return;\n",
              "\n",
              "          const docLinkHtml = 'Like what you see? Visit the ' +\n",
              "            '<a target=\"_blank\" href=https://colab.research.google.com/notebooks/data_table.ipynb>data table notebook</a>'\n",
              "            + ' to learn more about interactive tables.';\n",
              "          element.innerHTML = '';\n",
              "          dataTable['output_type'] = 'display_data';\n",
              "          await google.colab.output.renderOutput(dataTable, element);\n",
              "          const docLink = document.createElement('div');\n",
              "          docLink.innerHTML = docLinkHtml;\n",
              "          element.appendChild(docLink);\n",
              "        }\n",
              "      </script>\n",
              "    </div>\n",
              "  </div>\n",
              "  "
            ]
          },
          "metadata": {},
          "execution_count": 11
        }
      ]
    },
    {
      "cell_type": "code",
      "source": [
        "from pandas_gbq import to_gbq"
      ],
      "metadata": {
        "id": "5ttumUa2SczC"
      },
      "execution_count": null,
      "outputs": []
    },
    {
      "cell_type": "code",
      "source": [
        "# convert the dataframe to a BigQuery table\n",
        "to_gbq(df, 'project-f-374403.evgenii.nfl_scores', project_id=project_id, if_exists='append', credentials=credentials)"
      ],
      "metadata": {
        "id": "zsNRpVU__G4r",
        "colab": {
          "base_uri": "https://localhost:8080/"
        },
        "outputId": "220fec1b-6e46-4493-94ec-76cd6cc0494f"
      },
      "execution_count": null,
      "outputs": [
        {
          "output_type": "stream",
          "name": "stderr",
          "text": [
            "100%|██████████| 1/1 [00:00<00:00, 1025.00it/s]\n"
          ]
        }
      ]
    },
    {
      "cell_type": "code",
      "source": [],
      "metadata": {
        "id": "2uFu9Gr9Sq3b"
      },
      "execution_count": null,
      "outputs": []
    }
  ]
}